{
 "cells": [
  {
   "cell_type": "markdown",
   "id": "c25657d9",
   "metadata": {},
   "source": [
    "# Notes:\n",
    "\n",
    "- If using custom model, make sure .pth file is called \"model.pth\" and make sure the vocab.json used is in the training_outputs dir"
   ]
  },
  {
   "cell_type": "code",
   "execution_count": 1,
   "id": "b10dd9b7",
   "metadata": {},
   "outputs": [],
   "source": [
    "import torch\n",
    "from TTS.api import TTS\n",
    "import os"
   ]
  },
  {
   "cell_type": "code",
   "execution_count": 2,
   "id": "dc508fef",
   "metadata": {},
   "outputs": [
    {
     "name": "stdout",
     "output_type": "stream",
     "text": [
      "cuda:0\n",
      "12.4\n",
      "True\n",
      "NVIDIA GeForce RTX 2070\n"
     ]
    }
   ],
   "source": [
    "'''Display device used'''\n",
    "device = \"cuda:0\" if torch.cuda.is_available() else \"cpu\"\n",
    "print(device)\n",
    "print(torch.version.cuda)     \n",
    "print(torch.cuda.is_available())    \n",
    "print(torch.cuda.get_device_name())"
   ]
  },
  {
   "cell_type": "code",
   "execution_count": 6,
   "id": "998c4762",
   "metadata": {},
   "outputs": [],
   "source": [
    "# Specifiy model used. Use exact pathing if using custom model\n",
    "modelPath = r\"C:\\Users\\12017\\Desktop\\NJIT\\DS677_852_Project\\src\\training_outputs\\xttsv2_finetune_20250417_1940-April-17-2025_07+40PM-5156b25\"\n",
    "model = None\n",
    "\n",
    "'''Need to rename checkpoint to model, and copy the vocab.json into the model path dir'''\n",
    "speakerRef = \"datasets/Buddhism For Beginners Plain and Simple - Discover Inner Peace - Free Buddha Full Length Audiobook/wavs/chunk_0007.wav\"\n",
    "# Explicitly set the config file path\n",
    "config_path = os.path.join(modelPath, \"config.json\")\n",
    "# Check that the file exists (for debugging)\n",
    "if not os.path.exists(config_path):\n",
    "    raise FileNotFoundError(f\"Config file not found at: {config_path}\")\n",
    "\n",
    "# model = \"tts_models/multilingual/multi-dataset/xtts_v2\""
   ]
  },
  {
   "cell_type": "code",
   "execution_count": 7,
   "id": "a3a6f006",
   "metadata": {},
   "outputs": [],
   "source": [
    "'''Gen Audio takes in text and a model then runs inference using the TTS model to output an audio file'''\n",
    "def genAudio(text, model, modelPath, config_path=None, outputName=\"test.wav\", filePath =\"output/\") -> str:\n",
    "    # Use model, or direct path to custom model\n",
    "    if model is not None:\n",
    "        tts = TTS(model_name = model,).to(device=device)\n",
    "    elif modelPath and config_path:\n",
    "        tts = TTS(model_path=modelPath, config_path=config_path).to(device=device)\n",
    "    else:\n",
    "        print(\"Confirm model to proceed\")\n",
    "        return\n",
    "\n",
    "    # Form final output final path\n",
    "    outputPath = filePath + outputName\n",
    "\n",
    "    # Use built in method to save .wav audio file\n",
    "    tts.tts_to_file(text=text, file_path=outputPath, language=\"en\", speaker_wav=speakerRef)\n",
    "\n",
    "    # return string for where the final output is\n",
    "    return outputPath"
   ]
  },
  {
   "cell_type": "code",
   "execution_count": 8,
   "id": "6cf1018f",
   "metadata": {},
   "outputs": [
    {
     "name": "stdout",
     "output_type": "stream",
     "text": [
      " > Using model: xtts\n"
     ]
    },
    {
     "name": "stderr",
     "output_type": "stream",
     "text": [
      "GPT2InferenceModel has generative capabilities, as `prepare_inputs_for_generation` is explicitly overwritten. However, it doesn't directly inherit from `GenerationMixin`. From 👉v4.50👈 onwards, `PreTrainedModel` will NOT inherit from `GenerationMixin`, and this model will lose the ability to call `generate` and other related functions.\n",
      "  - If you're using `trust_remote_code=True`, you can get rid of this warning by loading the model with an auto class. See https://huggingface.co/docs/transformers/en/model_doc/auto#auto-classes\n",
      "  - If you are the owner of the model architecture code, please modify your model class such that it inherits from `GenerationMixin` (after `PreTrainedModel`, otherwise you'll get an exception).\n",
      "  - If you are not the owner of the model architecture class, please contact the model code owner to update it.\n"
     ]
    },
    {
     "name": "stdout",
     "output_type": "stream",
     "text": [
      " > Text splitted to sentences.\n",
      "['for a hundred yards, then, curving, was lost to view.', 'Doubtless there was an outpost farther along.']\n"
     ]
    },
    {
     "name": "stderr",
     "output_type": "stream",
     "text": [
      "The attention mask is not set and cannot be inferred from input because pad token is same as eos token. As a consequence, you may observe unexpected behavior. Please pass your input's `attention_mask` to obtain reliable results.\n"
     ]
    },
    {
     "name": "stdout",
     "output_type": "stream",
     "text": [
      " > Processing time: 3.417705535888672\n",
      " > Real-time factor: 0.3669428318540554\n",
      "output/test.wav\n"
     ]
    }
   ],
   "source": [
    "# Specifiy example text\n",
    "example = \"for a hundred yards, then, curving, was lost to view. Doubtless there was an outpost farther along.\"\n",
    "\n",
    "\n",
    "print(genAudio(text=example,\n",
    "               model=model,\n",
    "               modelPath=modelPath,\n",
    "               config_path=config_path,\n",
    "               outputName=\"test.wav\"))"
   ]
  },
  {
   "cell_type": "code",
   "execution_count": null,
   "id": "51bb2a81",
   "metadata": {},
   "outputs": [],
   "source": []
  }
 ],
 "metadata": {
  "kernelspec": {
   "display_name": "xtts_project_venv",
   "language": "python",
   "name": "xtts_project_venv"
  },
  "language_info": {
   "codemirror_mode": {
    "name": "ipython",
    "version": 3
   },
   "file_extension": ".py",
   "mimetype": "text/x-python",
   "name": "python",
   "nbconvert_exporter": "python",
   "pygments_lexer": "ipython3",
   "version": "3.10.11"
  }
 },
 "nbformat": 4,
 "nbformat_minor": 5
}
