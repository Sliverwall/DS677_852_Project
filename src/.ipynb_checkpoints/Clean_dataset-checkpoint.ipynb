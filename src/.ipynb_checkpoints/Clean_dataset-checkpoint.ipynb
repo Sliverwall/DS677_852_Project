{
 "cells": [
  {
   "cell_type": "code",
   "execution_count": null,
   "id": "5bff5370",
   "metadata": {},
   "outputs": [],
   "source": [
    "# Warning: The text length exceeds the character limit of 250 for language 'en', this might cause truncated audio."
   ]
  }
 ],
 "metadata": {
  "kernelspec": {
   "display_name": "xtts_project_venv",
   "language": "python",
   "name": "xtts_project_venv"
  },
  "language_info": {
   "codemirror_mode": {
    "name": "ipython",
    "version": 3
   },
   "file_extension": ".py",
   "mimetype": "text/x-python",
   "name": "python",
   "nbconvert_exporter": "python",
   "pygments_lexer": "ipython3",
   "version": "3.10.11"
  }
 },
 "nbformat": 4,
 "nbformat_minor": 5
}
