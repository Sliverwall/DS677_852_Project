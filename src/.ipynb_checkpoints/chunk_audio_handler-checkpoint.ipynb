{
 "cells": [
  {
   "cell_type": "markdown",
   "id": "c82c1c9e",
   "metadata": {},
   "source": [
    "# chunk_audio_handler\n",
    "\n",
    "- Script to break a .wav audio file into equal part chunks. XTTS fine-tuning requires small second-sized chunks of audio, not full length audio files."
   ]
  },
  {
   "cell_type": "code",
   "execution_count": 4,
   "id": "3b406f48",
   "metadata": {},
   "outputs": [],
   "source": [
    "from pydub import AudioSegment\n",
    "import webvtt\n",
    "import os"
   ]
  },
  {
   "cell_type": "code",
   "execution_count": 6,
   "id": "565e8035",
   "metadata": {},
   "outputs": [],
   "source": [
    "\n",
    "# Load audio\n",
    "audio = AudioSegment.from_wav(\"raw_audio/An Occurrence at Owl Creek Bridge by Ambrose Bierce (Full Audiobook).wav\")  \n",
    "\n",
    "# Get the total length of time, in ms, for the audio file\n",
    "totalLength = len(audio)\n",
    "\n",
    "# Define output path for chunks\n",
    "outputDir = \"chunks/\""
   ]
  },
  {
   "cell_type": "code",
   "execution_count": 8,
   "id": "482a9f08",
   "metadata": {},
   "outputs": [
    {
     "name": "stdout",
     "output_type": "stream",
     "text": [
      "140\n"
     ]
    }
   ],
   "source": [
    "# Define length of time for each chunk in seconds\n",
    "chunkInSeconds = 10\n",
    "chunkLength = chunkInSeconds * 1000  # seconds in ms\n",
    "\n",
    "# Get the total amount of chunks needed to divide the audio file\n",
    "numChunks = totalLength // chunkLength + int(totalLength % chunkLength != 0)\n",
    "\n",
    "# display expected number of chunks\n",
    "print(numChunks)"
   ]
  },
  {
   "cell_type": "code",
   "execution_count": 11,
   "id": "780f43bb",
   "metadata": {},
   "outputs": [
    {
     "name": "stdout",
     "output_type": "stream",
     "text": [
      "Chunk extraction completed...\n"
     ]
    }
   ],
   "source": [
    "\n",
    "# Extract the needed number of audio chunks from the audio file\n",
    "for i in range(numChunks):\n",
    "    # Get the start and end time for the chunk\n",
    "    start = i * chunkLength\n",
    "    end = min((i + 1) * chunkLength, totalLength)\n",
    "\n",
    "    # Extract audio and output labeled chunk into ouput dir as a wav file\n",
    "    chunk = audio[start:end]\n",
    "    chunk.export(f\"{outputDir}chunk_{i:04}.wav\", format=\"wav\")\n",
    "print(\"Chunk extraction completed...\")"
   ]
  }
 ],
 "metadata": {
  "kernelspec": {
   "display_name": "Python 3 (ipykernel)",
   "language": "python",
   "name": "python3"
  },
  "language_info": {
   "codemirror_mode": {
    "name": "ipython",
    "version": 3
   },
   "file_extension": ".py",
   "mimetype": "text/x-python",
   "name": "python",
   "nbconvert_exporter": "python",
   "pygments_lexer": "ipython3",
   "version": "3.9.13"
  }
 },
 "nbformat": 4,
 "nbformat_minor": 5
}
