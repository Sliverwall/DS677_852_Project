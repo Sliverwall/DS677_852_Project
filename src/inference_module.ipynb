{
 "cells": [
  {
   "cell_type": "markdown",
   "id": "7d6f0d46",
   "metadata": {},
   "source": [
    "# Notes:\n",
    "\n",
    "- If using custom model, make sure .pth file is called \"model.pth\" and make sure the vocab.json used is in the training_outputs dir"
   ]
  },
  {
   "cell_type": "code",
   "execution_count": 2,
   "id": "5113c834",
   "metadata": {},
   "outputs": [],
   "source": [
    "import torch\n",
    "from TTS.api import TTS\n",
    "import os"
   ]
  },
  {
   "cell_type": "code",
   "execution_count": 3,
   "id": "bf237aaf",
   "metadata": {},
   "outputs": [
    {
     "name": "stdout",
     "output_type": "stream",
     "text": [
      "cuda:0\n",
      "12.4\n",
      "True\n",
      "NVIDIA GeForce RTX 2070\n"
     ]
    }
   ],
   "source": [
    "'''Display device used'''\n",
    "device = \"cuda:0\" if torch.cuda.is_available() else \"cpu\"\n",
    "print(device)\n",
    "print(torch.version.cuda)           # PyTorch's CUDA version (linked at build time)\n",
    "print(torch.cuda.is_available())    # Should be True\n",
    "print(torch.cuda.get_device_name()) # Your GPU's name"
   ]
  },
  {
   "cell_type": "code",
   "execution_count": 12,
   "id": "7af76ec6",
   "metadata": {},
   "outputs": [],
   "source": [
    "# Specifiy model used. Use exact pathing if using custom model\n",
    "modelPath = r\"C:\\Users\\12017\\Desktop\\NJIT\\DS677_852_Project\\src\\training_outputs\\owl_speech_test-April-12-2025_04+01PM-dd3b630\"\n",
    "model = None\n",
    "\n",
    "'''Need to rename checkpoint to model, and copy the vocab.json into the model path dir'''\n",
    "speakerRef = \"datasets/example_1/wavs/chunk_0009.wav\"\n",
    "# Explicitly set the config file path\n",
    "config_path = os.path.join(modelPath, \"config.json\")\n",
    "# Check that the file exists (for debugging)\n",
    "if not os.path.exists(config_path):\n",
    "    raise FileNotFoundError(f\"Config file not found at: {config_path}\")\n",
    "\n",
    "# model = \"tts_models/multilingual/multi-dataset/xtts_v2\""
   ]
  },
  {
   "cell_type": "code",
   "execution_count": 13,
   "id": "9551c994",
   "metadata": {},
   "outputs": [],
   "source": [
    "'''Gen Audio takes in text and a model then runs inference using the TTS model to output an audio file'''\n",
    "def genAudio(text, model, modelPath, config_path=None, outputName=\"test.wav\", filePath =\"output/\") -> str:\n",
    "    # Use model, or direct path to custom model\n",
    "    if model is not None:\n",
    "        tts = TTS(model_name = model,).to(device=device)\n",
    "    elif modelPath and config_path:\n",
    "        tts = TTS(model_path=modelPath, config_path=config_path).to(device=device)\n",
    "    else:\n",
    "        print(\"Confirm model to proceed\")\n",
    "        return\n",
    "\n",
    "    # Form final output final path\n",
    "    outputPath = filePath + outputName\n",
    "\n",
    "    # Use built in method to save .wav audio file\n",
    "    tts.tts_to_file(text=text, file_path=outputPath, language=\"en\", speaker_wav=speakerRef)\n",
    "\n",
    "    # return string for where the final output is\n",
    "    return outputPath"
   ]
  },
  {
   "cell_type": "code",
   "execution_count": null,
   "id": "2b129aed",
   "metadata": {},
   "outputs": [
    {
     "name": "stdout",
     "output_type": "stream",
     "text": [
      " > Using model: xtts\n"
     ]
    }
   ],
   "source": [
    "# Specifiy example text\n",
    "example = \"for a hundred yards, then, curving, was lost to view. Doubtless there was an outpost farther along.\"\n",
    "\n",
    "\n",
    "print(genAudio(text=example,\n",
    "               model=model,\n",
    "               modelPath=modelPath,\n",
    "               config_path=config_path,\n",
    "               outputName=\"owl_creek_example.wav\"))"
   ]
  }
 ],
 "metadata": {
  "kernelspec": {
   "display_name": "xtts_project_venv",
   "language": "python",
   "name": "xtts_project_venv"
  },
  "language_info": {
   "codemirror_mode": {
    "name": "ipython",
    "version": 3
   },
   "file_extension": ".py",
   "mimetype": "text/x-python",
   "name": "python",
   "nbconvert_exporter": "python",
   "pygments_lexer": "ipython3",
   "version": "3.10.11"
  }
 },
 "nbformat": 4,
 "nbformat_minor": 5
}
